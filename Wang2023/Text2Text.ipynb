{
 "cells": [
  {
   "cell_type": "code",
   "execution_count": 1,
   "id": "fdae1488",
   "metadata": {},
   "outputs": [],
   "source": [
    "CACHE_DIR = \"/data/ondovbd/.cache/huggingface/transformers/\"\n",
    "MODEL = 't5-base'"
   ]
  },
  {
   "cell_type": "code",
   "execution_count": 2,
   "id": "ffb73020",
   "metadata": {},
   "outputs": [],
   "source": [
    "from datasets import Dataset\n",
    "import pandas as pd\n",
    "\n",
    "df_train = pd.read_csv('cloth-train.csv')#[:1000]\n",
    "df_val = pd.read_csv('cloth-valid.csv')[:1000]\n",
    "train_ds = Dataset.from_pandas(df_train, split=\"train\")\n",
    "val_ds = Dataset.from_pandas(df_val, split=\"val\")"
   ]
  },
  {
   "cell_type": "code",
   "execution_count": 3,
   "id": "f4b65eb5",
   "metadata": {},
   "outputs": [],
   "source": [
    "from transformers import T5Tokenizer, T5ForConditionalGeneration\n",
    "\n",
    "tokenizer = T5Tokenizer.from_pretrained(MODEL, cache_dir=CACHE_DIR, model_max_length=512)\n",
    "model = T5ForConditionalGeneration.from_pretrained(MODEL, cache_dir=CACHE_DIR)"
   ]
  },
  {
   "cell_type": "code",
   "execution_count": 4,
   "id": "0ca9d745",
   "metadata": {},
   "outputs": [],
   "source": [
    "max_input_length = 512\n",
    "max_target_length = 30\n",
    "\n",
    "def preprocess_function(examples):\n",
    "    model_inputs = tokenizer(\n",
    "        examples[\"source\"],\n",
    "        max_length=max_input_length,\n",
    "        truncation=True,\n",
    "        padding=True,\n",
    "    )\n",
    "    labels = tokenizer(\n",
    "        examples[\"target\"],\n",
    "        max_length=max_target_length,\n",
    "        truncation=True,\n",
    "        padding=True,\n",
    "    )\n",
    "    model_inputs[\"labels\"] = labels[\"input_ids\"]\n",
    "    return model_inputs\n",
    "\n"
   ]
  },
  {
   "cell_type": "code",
   "execution_count": 5,
   "id": "9c6ac80c",
   "metadata": {},
   "outputs": [],
   "source": [
    "import pickle"
   ]
  },
  {
   "cell_type": "markdown",
   "id": "8e30c88a",
   "metadata": {},
   "source": [
    "tokenized_train = train_ds.map(preprocess_function, batched=True)#.with_format(\"torch\", device=device)\n",
    "tokenized_val = val_ds.map(preprocess_function, batched=True)#.with_format(\"torch\", device=device)"
   ]
  },
  {
   "cell_type": "markdown",
   "id": "28f25ba5",
   "metadata": {},
   "source": [
    "import pickle\n",
    "pickle.dump(tokenized_train, open('cloth-train.pkl', 'wb'))\n",
    "pickle.dump(tokenized_val, open('cloth-valid.pkl', 'wb'))"
   ]
  },
  {
   "cell_type": "code",
   "execution_count": 6,
   "id": "000fd715",
   "metadata": {},
   "outputs": [],
   "source": [
    "ds_train=pickle.load(open('cloth-train.pkl','rb'))\n",
    "ds_valid=pickle.load(open('cloth-valid.pkl','rb'))"
   ]
  },
  {
   "cell_type": "code",
   "execution_count": 7,
   "id": "5b9736d0",
   "metadata": {},
   "outputs": [],
   "source": [
    "from transformers import DataCollatorForSeq2Seq\n",
    "\n",
    "data_collator = DataCollatorForSeq2Seq(tokenizer, model=model)"
   ]
  },
  {
   "cell_type": "code",
   "execution_count": 8,
   "id": "b903b5a1",
   "metadata": {},
   "outputs": [],
   "source": [
    "from transformers import Seq2SeqTrainingArguments\n",
    "\n",
    "batch_size=64\n",
    "epochs=30\n",
    "\n",
    "args = Seq2SeqTrainingArguments(\n",
    "    output_dir=\"text2text-t5-base\",\n",
    "    evaluation_strategy=\"epoch\",\n",
    "    learning_rate=1e-4,\n",
    "    per_device_train_batch_size=batch_size,\n",
    "    per_device_eval_batch_size=batch_size,\n",
    "#    weight_decay=0.01,\n",
    "    save_total_limit=10,\n",
    "    num_train_epochs=30,\n",
    "#    predict_with_generate=True,\n",
    "#    logging_steps=logging_steps,\n",
    "#    push_to_hub=True,\n",
    ")"
   ]
  },
  {
   "cell_type": "code",
   "execution_count": 9,
   "id": "9cca94cd",
   "metadata": {},
   "outputs": [],
   "source": [
    "from transformers import Seq2SeqTrainer\n",
    "\n",
    "trainer = Seq2SeqTrainer(\n",
    "    model,\n",
    "    args,\n",
    "    train_dataset=ds_train,\n",
    "    eval_dataset=ds_valid,\n",
    "    data_collator=data_collator,\n",
    "    tokenizer=tokenizer,\n",
    "#    compute_metrics=compute_metrics,\n",
    ")"
   ]
  },
  {
   "cell_type": "code",
   "execution_count": null,
   "id": "27c2eac0",
   "metadata": {
    "scrolled": false
   },
   "outputs": [
    {
     "name": "stderr",
     "output_type": "stream",
     "text": [
      "/data/ondovbd/conda/envs/cloze/lib/python3.7/site-packages/transformers/optimization.py:415: FutureWarning: This implementation of AdamW is deprecated and will be removed in a future version. Use the PyTorch implementation torch.optim.AdamW instead, or set `no_deprecation_warning=True` to disable this warning\n",
      "  FutureWarning,\n"
     ]
    },
    {
     "data": {
      "text/html": [
       "\n",
       "    <div>\n",
       "      \n",
       "      <progress value='162' max='72060' style='width:300px; height:20px; vertical-align: middle;'></progress>\n",
       "      [  162/72060 04:15 < 31:54:46, 0.63 it/s, Epoch 0.07/30]\n",
       "    </div>\n",
       "    <table border=\"1\" class=\"dataframe\">\n",
       "  <thead>\n",
       " <tr style=\"text-align: left;\">\n",
       "      <th>Epoch</th>\n",
       "      <th>Training Loss</th>\n",
       "      <th>Validation Loss</th>\n",
       "    </tr>\n",
       "  </thead>\n",
       "  <tbody>\n",
       "  </tbody>\n",
       "</table><p>"
      ],
      "text/plain": [
       "<IPython.core.display.HTML object>"
      ]
     },
     "metadata": {},
     "output_type": "display_data"
    }
   ],
   "source": [
    "trainer.train(resume_from_checkpoint=False)"
   ]
  },
  {
   "cell_type": "code",
   "execution_count": 5,
   "id": "d457e748",
   "metadata": {},
   "outputs": [],
   "source": [
    "from transformers import pipeline\n",
    "translator = pipeline(\"text2text-generation\", model='text2text-t5-base/checkpoint-72000')"
   ]
  },
  {
   "cell_type": "code",
   "execution_count": 30,
   "id": "5ea00b4e",
   "metadata": {},
   "outputs": [
    {
     "data": {
      "text/plain": [
       "[{'generated_text': 'is likes liking'}]"
      ]
     },
     "execution_count": 30,
     "metadata": {},
     "output_type": "execute_result"
    }
   ],
   "source": [
    "translator(\"Mrs Brown is from London in  the UK  , but she  _  living in China. [SEP] likes\")"
   ]
  },
  {
   "cell_type": "code",
   "execution_count": 27,
   "id": "3d4c3e8b",
   "metadata": {},
   "outputs": [
    {
     "data": {
      "text/plain": [
       "[{'generated_text': 'sad bad happy'}]"
      ]
     },
     "execution_count": 27,
     "metadata": {},
     "output_type": "execute_result"
    }
   ],
   "source": [
    "translator(\"Everyone has their own dreams. They give us courage and confidence to keep us going through difficulties. Here is some advice on how to realize our beautiful dreams. [SEP] pleasant\")"
   ]
  }
 ],
 "metadata": {
  "kernelspec": {
   "display_name": "cloze",
   "language": "python",
   "name": "cloze"
  },
  "language_info": {
   "codemirror_mode": {
    "name": "ipython",
    "version": 3
   },
   "file_extension": ".py",
   "mimetype": "text/x-python",
   "name": "python",
   "nbconvert_exporter": "python",
   "pygments_lexer": "ipython3",
   "version": "3.7.10"
  }
 },
 "nbformat": 4,
 "nbformat_minor": 5
}
